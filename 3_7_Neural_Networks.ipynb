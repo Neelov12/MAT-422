{
  "nbformat": 4,
  "nbformat_minor": 0,
  "metadata": {
    "colab": {
      "provenance": [],
      "authorship_tag": "ABX9TyMG5AkeFe4oID+NAuJ8ipE2",
      "include_colab_link": true
    },
    "kernelspec": {
      "name": "python3",
      "display_name": "Python 3"
    },
    "language_info": {
      "name": "python"
    }
  },
  "cells": [
    {
      "cell_type": "markdown",
      "metadata": {
        "id": "view-in-github",
        "colab_type": "text"
      },
      "source": [
        "<a href=\"https://colab.research.google.com/github/Neelov12/MAT-422-Mathematical-Methods-and-Data-Science---Demonstrated-in-Python/blob/main/3_7_Neural_Networks.ipynb\" target=\"_parent\"><img src=\"https://colab.research.google.com/assets/colab-badge.svg\" alt=\"Open In Colab\"/></a>"
      ]
    },
    {
      "cell_type": "markdown",
      "source": [
        "# 3.7 Neural Networks"
      ],
      "metadata": {
        "id": "PQ45UFXiUx4Q"
      }
    },
    {
      "cell_type": "markdown",
      "source": [
        "In this section, I will demonstrate neural networks by initializing the nodes and making it available for use in any way the user wants"
      ],
      "metadata": {
        "id": "AqkkZmLnZLyZ"
      }
    },
    {
      "cell_type": "code",
      "execution_count": 1,
      "metadata": {
        "id": "9n9_cTveKmse",
        "outputId": "5e9bedf0-40d3-47b1-cf36-a6168698dd0f",
        "colab": {
          "base_uri": "https://localhost:8080/"
        }
      },
      "outputs": [
        {
          "output_type": "stream",
          "name": "stdout",
          "text": [
            "Imported modules.\n"
          ]
        }
      ],
      "source": [
        "#@title Import relevant modules\n",
        "import numpy as np\n",
        "import pandas as pd\n",
        "import tensorflow as tf\n",
        "from matplotlib import pyplot as plt\n",
        "import seaborn as sns\n"
      ]
    },
    {
      "cell_type": "code",
      "source": [
        "from keras.models import Sequential\n",
        "from keras.layers import Activation, Dense\n",
        "\n",
        "model = Sequential()\n",
        "layer_1 = Dense(16, input_shape = (8,))\n",
        "model.add(layer_1)\n",
        "layer_1.input_shape\n",
        "(None, 8)\n",
        "layer_1.output_shape\n",
        "(None, 16)\n",
        "\n",
        "model = Sequential()\n",
        "layer_1 = Dense(16, input_shape = (8,))\n",
        "model.add(layer_1)\n",
        "layer_1.get_weights()"
      ],
      "metadata": {
        "colab": {
          "base_uri": "https://localhost:8080/"
        },
        "id": "s40nnyr8YSvQ",
        "outputId": "89116aad-ec03-4d7b-d55c-084a1fdfd87c"
      },
      "execution_count": 9,
      "outputs": [
        {
          "output_type": "execute_result",
          "data": {
            "text/plain": [
              "[array([[-0.48275816, -0.19071269, -0.29061854, -0.3425783 ,  0.43221068,\n",
              "          0.35440087, -0.0433073 , -0.4820503 ,  0.16413581, -0.07142985,\n",
              "         -0.0283463 ,  0.0853833 ,  0.2747165 , -0.08953333,  0.2884549 ,\n",
              "          0.17068279],\n",
              "        [-0.09022892, -0.42764378, -0.14835644,  0.45995724, -0.41336417,\n",
              "          0.3576969 ,  0.05840611,  0.3947655 ,  0.2377603 , -0.25567913,\n",
              "         -0.13538766,  0.4237504 ,  0.14029884, -0.29951537, -0.33366644,\n",
              "          0.40895665],\n",
              "        [-0.08064914, -0.00975204,  0.28613472,  0.37575448,  0.31286967,\n",
              "         -0.16162968, -0.22826564,  0.4120475 , -0.15031612,  0.17360592,\n",
              "         -0.11146975, -0.20299494, -0.02711093,  0.1010623 , -0.38481355,\n",
              "          0.48535657],\n",
              "        [-0.39369357,  0.42850864, -0.40161133, -0.4434272 , -0.35883534,\n",
              "         -0.4320457 ,  0.29199064,  0.42949915,  0.47104788, -0.24082541,\n",
              "          0.3534348 ,  0.39554727,  0.21458471,  0.25711536,  0.22005832,\n",
              "         -0.3092605 ],\n",
              "        [-0.41796124, -0.19066441,  0.1971494 , -0.12824333, -0.11469984,\n",
              "          0.06845963,  0.17229903, -0.43716383, -0.1022042 ,  0.08155262,\n",
              "         -0.36735964,  0.10311091,  0.25810206, -0.17714632,  0.18230045,\n",
              "         -0.41472685],\n",
              "        [-0.16352952,  0.2556361 ,  0.09130633,  0.2057538 ,  0.4123658 ,\n",
              "         -0.46474135, -0.43192184, -0.10779905, -0.07550609, -0.10370541,\n",
              "         -0.1872611 , -0.24018764,  0.17319822, -0.42990005,  0.05985284,\n",
              "         -0.1305871 ],\n",
              "        [-0.4825095 , -0.07097125,  0.06529009,  0.04579115, -0.32591736,\n",
              "         -0.22573256,  0.42878938, -0.46515894,  0.45843244,  0.19671583,\n",
              "          0.14946353, -0.21791148,  0.11566329, -0.47572982, -0.14091587,\n",
              "         -0.12650001],\n",
              "        [ 0.24959624,  0.18334496, -0.32852435, -0.31073415, -0.15731728,\n",
              "          0.1180464 , -0.0712558 ,  0.07099283,  0.11200953,  0.13742518,\n",
              "         -0.01898825, -0.06246936, -0.14229763, -0.46613646,  0.05171371,\n",
              "         -0.21939611]], dtype=float32),\n",
              " array([0., 0., 0., 0., 0., 0., 0., 0., 0., 0., 0., 0., 0., 0., 0., 0.],\n",
              "       dtype=float32)]"
            ]
          },
          "metadata": {},
          "execution_count": 9
        }
      ]
    },
    {
      "cell_type": "code",
      "source": [
        "config = layer_1.get_config()"
      ],
      "metadata": {
        "id": "kNFPSmtsYwDe"
      },
      "execution_count": 10,
      "outputs": []
    },
    {
      "cell_type": "code",
      "source": [
        "config = layer_1.get_config()\n",
        "reload_layer = Dense.from_config(config)\n"
      ],
      "metadata": {
        "id": "3A9WHpfUY0Pl"
      },
      "execution_count": 11,
      "outputs": []
    },
    {
      "cell_type": "code",
      "source": [
        "model = Sequential()\n",
        "layer_1 = Dense(16, input_shape = (8,))\n",
        "model.add(layer_1)\n",
        "layer_1.get_weights()\n",
        "layer_1.input_shape\n",
        "(None, 8)"
      ],
      "metadata": {
        "colab": {
          "base_uri": "https://localhost:8080/"
        },
        "id": "taQaa2azY5JR",
        "outputId": "fa76d1df-e740-4c86-db08-46fdb1630bf1"
      },
      "execution_count": 13,
      "outputs": [
        {
          "output_type": "execute_result",
          "data": {
            "text/plain": [
              "(None, 8)"
            ]
          },
          "metadata": {},
          "execution_count": 13
        }
      ]
    }
  ]
}