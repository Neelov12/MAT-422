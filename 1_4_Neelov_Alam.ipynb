{
  "nbformat": 4,
  "nbformat_minor": 0,
  "metadata": {
    "colab": {
      "provenance": [],
      "authorship_tag": "ABX9TyPdGENJp9II5XrhD0MbnKeT",
      "include_colab_link": true
    },
    "kernelspec": {
      "name": "python3",
      "display_name": "Python 3"
    },
    "language_info": {
      "name": "python"
    }
  },
  "cells": [
    {
      "cell_type": "markdown",
      "metadata": {
        "id": "view-in-github",
        "colab_type": "text"
      },
      "source": [
        "<a href=\"https://colab.research.google.com/github/Neelov12/MAT-422/blob/main/1_4_Neelov_Alam.ipynb\" target=\"_parent\"><img src=\"https://colab.research.google.com/assets/colab-badge.svg\" alt=\"Open In Colab\"/></a>"
      ]
    },
    {
      "cell_type": "markdown",
      "source": [
        "# 1.4 Principal Component Analysis"
      ],
      "metadata": {
        "id": "sZ1DkB466afp"
      }
    },
    {
      "cell_type": "markdown",
      "source": [
        "# Contents:\n",
        "\n",
        "> 1.4.1: Singular Value Decomposition\n",
        "\n",
        "> 1.4.2: Low-Rank Matrix Approximations\n",
        "\n",
        "> 1.4.3: Principal Component Analysis\n"
      ],
      "metadata": {
        "id": "btmg13VXVQor"
      }
    },
    {
      "cell_type": "markdown",
      "source": [
        "# 1.4.1: Singular Value Decomposition"
      ],
      "metadata": {
        "id": "DRIf4al9Cc3m"
      }
    },
    {
      "cell_type": "markdown",
      "source": [
        "In this section, I will demonstrate Singular Value Demposition, which states that\n",
        "\n",
        "> Let $A$ be an $m × n$ matrix\n",
        "with the dimension of col($A$) = $r$. Then there exists an $m × n$ matrix ∑, where\n",
        "the diagonal entries in D are the first r singular values of $A\n",
        "σ1 ≥\n",
        "σ2 ≥ · · · ≥\n",
        "σr ≥ 0$, and there exist an $m × m$ orthogonal matrix $U$ and an $n × n$ orthogonal\n",
        "matrix $V$ such that\n",
        ">\n",
        "> $A = U ∑V^T$\n",
        "\n",
        "using the following example:\n",
        "\n",
        "> We will be finding the SVD of $A$, such that\n",
        ">\n",
        ">$A_{m,n} =\n",
        " \\begin{pmatrix}\n",
        "  2 & 2 \\\\\n",
        "  2 & 6 \\\\\n",
        "  4 & 1 \\\\\n",
        "  9 & 3 \\\\\n",
        "  4 & 8 \\\\\n",
        " \\end{pmatrix}$\n",
        " >\n",
        " > and,\n",
        " >\n",
        " > $A = U ∑V^T$"
      ],
      "metadata": {
        "id": "fgsFwUqXCuZI"
      }
    },
    {
      "cell_type": "markdown",
      "source": [
        "To do this, we must implement the following steps:\n",
        "\n",
        "1. Find $W$ = $A^TA$\n",
        "2. Find the eignevalues and eigenvectors of $W$\n",
        "3. Square-root the non-zero eigenvalues of $W$ to find $∑$\n",
        "4. Orthonormalize the eigenvectors using $Gram-Schmidt$ to find $U$\n",
        "5. Find $V$"
      ],
      "metadata": {
        "id": "u6r26FVYQ__T"
      }
    },
    {
      "cell_type": "markdown",
      "source": [
        "The tensorflow function linal.svd allows us to this very simply:"
      ],
      "metadata": {
        "id": "Lwm4b0LBTJER"
      }
    },
    {
      "cell_type": "code",
      "source": [
        "import tensorflow as tf"
      ],
      "metadata": {
        "id": "KjTXkM-TWR-v"
      },
      "execution_count": 1,
      "outputs": []
    },
    {
      "cell_type": "code",
      "execution_count": 5,
      "metadata": {
        "colab": {
          "base_uri": "https://localhost:8080/"
        },
        "id": "RHyGg3VZ6NnV",
        "outputId": "b9a72736-dce7-4011-e5c5-c0f883a14283"
      },
      "outputs": [
        {
          "output_type": "stream",
          "name": "stdout",
          "text": [
            "Matrix A: \n",
            "[[2. 2.]\n",
            " [2. 6.]\n",
            " [4. 1.]\n",
            " [9. 3.]\n",
            " [4. 8.]]\n",
            "\n",
            "Diagonal E: \n",
            "[14.020611   6.1985893] \n",
            "\n",
            "Matrix U: \n",
            "[[ 0.20168404  0.0101005  -0.37736756 -0.8434346  -0.324705  ]\n",
            " [ 0.3989028   0.47639114  0.17295702  0.2950933  -0.70493555]\n",
            " [ 0.25545424 -0.3295169   0.85012364 -0.32161167 -0.00418203]\n",
            " [ 0.61175054 -0.6539835  -0.32334778  0.30188912 -0.04874577]\n",
            " [ 0.6005869   0.48649156 -0.02038588 -0.08346832  0.6286803 ]] \n",
            "\n",
            "Matrix V^T: \n",
            "[[ 0.72258574 -0.6912813 ]\n",
            " [ 0.6912813   0.72258574]]\n"
          ]
        }
      ],
      "source": [
        "matrix_A = tf.constant([[2, 2], [2, 6], [4, 1], [9, 3], [4, 8]], dtype=tf.float32)\n",
        "print(\"Matrix A: \\n{}\\n\".format(matrix_A))\n",
        "\n",
        "d, u, v = tf.linalg.svd(matrix_A, full_matrices=True, compute_uv=True)\n",
        "print(\"Diagonal E: \\n{} \\n\\nMatrix U: \\n{} \\n\\nMatrix V^T: \\n{}\".format(d, u, v))"
      ]
    },
    {
      "cell_type": "markdown",
      "source": [
        "Behold, $A = U ∑V^T$, such that\n",
        "> $U =\n",
        " \\begin{pmatrix}\n",
        " 0.20168404 & 0.0101005 & -0.37736756 & -0.8434346 & -0.324705  \\\\\n",
        " 0.3989028 &  0.47639114 & 0.17295702 & 0.2950933 & -0.70493555 \\\\\n",
        " 0.25545424 & -0.3295169 &  0.85012364 & -0.32161167 & -0.00418203 \\\\\n",
        " 0.61175054 & -0.6539835 & -0.32334778 & 0.30188912 & -0.04874577 \\\\\n",
        " 0.6005869 &  0.48649156 & -0.02038588 & -0.08346832 & 0.6286803 \\\\\n",
        " \\end{pmatrix} $\n",
        " >\n",
        " > $∑ =\n",
        " \\begin{pmatrix}\n",
        "  14.020611 & 0 \\\\\n",
        "  0 & 6.1985893 \\\\\n",
        "  0 & 0 \\\\\n",
        "  0 & 0 \\\\\n",
        "  0 & 0 \\\\\n",
        " \\end{pmatrix}$\n",
        " >\n",
        " > $V^T =\n",
        " \\begin{pmatrix}\n",
        "  0.72258574 & -0.6912813 \\\\\n",
        "  0.6912813 & 0.72258574 \\\\\n",
        "  \\end{pmatrix}$"
      ],
      "metadata": {
        "id": "O9yyDU6bXjSk"
      }
    },
    {
      "cell_type": "markdown",
      "source": [
        "# 1.4.2: Low-Rank Matrix Approximations"
      ],
      "metadata": {
        "id": "Kjh1TwyVbfUI"
      }
    },
    {
      "cell_type": "markdown",
      "source": [
        "In this section, I will demonstrate a low-rank matrix approximation using the same matrix $A$\n",
        ">$A =\n",
        " \\begin{pmatrix}\n",
        "  2 & 2 \\\\\n",
        "  2 & 6 \\\\\n",
        "  4 & 1 \\\\\n",
        "  9 & 3 \\\\\n",
        "  4 & 8 \\\\\n",
        " \\end{pmatrix}$\n",
        "\n",
        "in the previous example to show that\n",
        "\n",
        "> $A = \\sum_{j=1}^k σ_ju_jv_j^T$"
      ],
      "metadata": {
        "id": "t9401uhLgYvS"
      }
    },
    {
      "cell_type": "markdown",
      "source": [
        "To do this, I will be performing this operation from $j = {1, 2, 3, 4, 5}$ such that $σ1 ≥\n",
        "σ2 ≥ · · ·\n",
        "σr > 0$"
      ],
      "metadata": {
        "id": "i8XjUm1SkSyt"
      }
    },
    {
      "cell_type": "code",
      "source": [
        "import tensorflow as tf"
      ],
      "metadata": {
        "id": "-VwJmg0w-i9j"
      },
      "execution_count": 1,
      "outputs": []
    },
    {
      "cell_type": "code",
      "source": [
        "# j = 1\n",
        "\n",
        "sum = tf.zeros([5,2], name=\"A\")\n",
        "\n",
        "u_1 = tf.constant([[0.20168404],\n",
        "                   [ 0.3989028],\n",
        "                   [ 0.25545424],\n",
        "                   [ 0.61175054],\n",
        "                   [ 0.6005869]],\n",
        "                   dtype=tf.float32)\n",
        "\n",
        "v_t_1 = tf.constant([[0.72258574, -0.6912813]],\n",
        "                     dtype=tf.float32)\n",
        "\n",
        "sig_1 = 14.020611\n",
        "\n",
        "uv1 = tf.matmul(u_1, v_t_1)\n",
        "suv1 = tf.scalar_mul(sig_1, uv1)\n",
        "sum = suv1\n",
        "\n",
        "# j = 2\n",
        "\n",
        "\n",
        "u_2 = tf.constant([[0.0101005],\n",
        "                   [0.47639114],\n",
        "                   [-0.3295169],\n",
        "                   [-0.6539835],\n",
        "                   [0.48649156]],\n",
        "                   dtype=tf.float32)\n",
        "\n",
        "v_t_2 = tf.constant([[0.6912813, 0.72258574]],\n",
        "                     dtype=tf.float32)\n",
        "\n",
        "sig_2 = 6.1985893\n",
        "\n",
        "uv2 = tf.matmul(u_2, v_t_2)\n",
        "suv2 = tf.scalar_mul(sig_2, uv2)\n",
        "sum += suv2\n",
        "\n",
        "print(sum)"
      ],
      "metadata": {
        "colab": {
          "base_uri": "https://localhost:8080/"
        },
        "id": "wA3tzO5XlFiT",
        "outputId": "38527b9f-8b7a-47d8-d854-936f7f931d44"
      },
      "execution_count": 2,
      "outputs": [
        {
          "output_type": "stream",
          "name": "stdout",
          "text": [
            "tf.Tensor(\n",
            "[[ 2.0865602 -1.909519 ]\n",
            " [ 6.082643  -1.7324786]\n",
            " [ 1.1760612 -3.9518201]\n",
            " [ 3.395403  -8.8584   ]\n",
            " [ 8.169203  -3.6419985]], shape=(5, 2), dtype=float32)\n"
          ]
        }
      ]
    },
    {
      "cell_type": "markdown",
      "source": [
        "As you can see, with adjustment, this is a rough approximation of the original matrix $A$"
      ],
      "metadata": {
        "id": "qvZTge8CqRY2"
      }
    },
    {
      "cell_type": "markdown",
      "source": [
        ">$A =\n",
        " \\begin{pmatrix}\n",
        "  2 & 2 \\\\\n",
        "  2 & 6 \\\\\n",
        "  4 & 1 \\\\\n",
        "  9 & 3 \\\\\n",
        "  4 & 8 \\\\\n",
        " \\end{pmatrix} $\n",
        ">\n",
        ">$A_{approximation} =\n",
        " \\begin{pmatrix}\n",
        "   1.909519 & 2.0865602 \\\\\n",
        "   1.7324786 & 6.082643  \\\\\n",
        "   3.9518201 & 1.1760612 \\\\\n",
        "   8.8584 & 3.395403 \\\\\n",
        "   3.6419985 & 8.169203  \\\\\n",
        " \\end{pmatrix}$"
      ],
      "metadata": {
        "id": "GXkuHxuj-vqi"
      }
    },
    {
      "cell_type": "markdown",
      "source": [
        "# 1.4.3: Principal Component Analysis"
      ],
      "metadata": {
        "id": "08Ss1bInBN8-"
      }
    },
    {
      "cell_type": "markdown",
      "source": [
        "In this section, I will demonstrate Principal Component Analysis (PCA) using a randomized $50 x 50$ matrix"
      ],
      "metadata": {
        "id": "NI4y1bxuCHks"
      }
    },
    {
      "cell_type": "markdown",
      "source": [
        "First, we must import tensorflow and pyplot to simplify this task"
      ],
      "metadata": {
        "id": "P3QCpUgXCfrJ"
      }
    },
    {
      "cell_type": "code",
      "source": [
        "import tensorflow as tf\n",
        "import matplotlib.pyplot as plt"
      ],
      "metadata": {
        "id": "LM0YA1QVCerF"
      },
      "execution_count": 6,
      "outputs": []
    },
    {
      "cell_type": "markdown",
      "source": [
        "Then, create x and y data"
      ],
      "metadata": {
        "id": "K1rMrTlLCloJ"
      }
    },
    {
      "cell_type": "code",
      "source": [
        "x_data = tf.multiply(4, tf.random.uniform([50], minval=0, maxval=50, dtype = tf.float32, seed = 0))\n",
        "y_data = tf.multiply(-3, x_data) + 1 + tf.random.uniform([50], minval=0, maxval=50, dtype = tf.float32, seed = 0)"
      ],
      "metadata": {
        "id": "SXBJobgxCtM7"
      },
      "execution_count": 38,
      "outputs": []
    },
    {
      "cell_type": "markdown",
      "source": [
        "Then, plot the data"
      ],
      "metadata": {
        "id": "90g6MdRxDMJe"
      }
    },
    {
      "cell_type": "code",
      "source": [
        "X = tf.stack([x_data, y_data], axis=1)\n",
        "plt.rc_context({'axes.edgecolor':'black', 'xtick.color':'black', 'ytick.color':'black'})\n",
        "plt.plot(X[:,0], X[:,1], 'x', color='b')\n",
        "plt.grid()"
      ],
      "metadata": {
        "colab": {
          "base_uri": "https://localhost:8080/",
          "height": 430
        },
        "id": "Hb87gWfYDOZ6",
        "outputId": "9328cb7e-5ea4-464f-8093-b594ee39be67"
      },
      "execution_count": 39,
      "outputs": [
        {
          "output_type": "display_data",
          "data": {
            "text/plain": [
              "<Figure size 640x480 with 1 Axes>"
            ],
            "image/png": "[encoded data removed]"
          },
          "metadata": {}
        }
      ]
    },
    {
      "cell_type": "markdown",
      "source": [
        "We must now standardize the data"
      ],
      "metadata": {
        "id": "dk5attwpD3c1"
      }
    },
    {
      "cell_type": "code",
      "source": [
        "# Standardize function\n",
        "def normalize(data):\n",
        "    X = tf.identity(data)\n",
        "    X -=tf.reduce_mean(data, axis=0)\n",
        "    return X\n",
        "\n",
        "normalized_data = normalize(X)\n",
        "plt.plot(normalized_data[:,0], normalized_data[:,1], 'x', color='r')\n",
        "plt.grid()"
      ],
      "metadata": {
        "colab": {
          "base_uri": "https://localhost:8080/",
          "height": 430
        },
        "id": "YXf3hTnDD5yf",
        "outputId": "ea596a11-6f42-459d-bc61-518b991ca605"
      },
      "execution_count": 40,
      "outputs": [
        {
          "output_type": "display_data",
          "data": {
            "text/plain": [
              "<Figure size 640x480 with 1 Axes>"
            ],
            "image/png": "[encoded data removed]"
          },
          "metadata": {}
        }
      ]
    },
    {
      "cell_type": "markdown",
      "source": [
        "Then, find plot the transformed data"
      ],
      "metadata": {
        "id": "jqZfBIHqGKIq"
      }
    },
    {
      "cell_type": "code",
      "source": [
        "# Finding eigen values and vectors\n",
        "e_values, e_vectors = tf.linalg.eigh(tf.tensordot(tf.transpose(normalized_data), normalized_data, axes=1))\n",
        "\n",
        "X_new = tf.tensordot(tf.transpose(e_vectors), tf.transpose(normalized_data), axes=1)\n",
        "\n",
        "plt.plot(X_new[0, :], X_new[1, :], 'x', color='g')\n",
        "plt.xlim(-400, 400)\n",
        "plt.ylim(-400, 400)\n",
        "plt.grid()"
      ],
      "metadata": {
        "colab": {
          "base_uri": "https://localhost:8080/",
          "height": 435
        },
        "id": "CiD-rHcEEc_e",
        "outputId": "657bf9b2-6d03-4241-d052-26010d48012d"
      },
      "execution_count": 43,
      "outputs": [
        {
          "output_type": "display_data",
          "data": {
            "text/plain": [
              "<Figure size 640x480 with 1 Axes>"
            ],
            "image/png": "[encoded data removed]"
          },
          "metadata": {}
        }
      ]
    },
    {
      "cell_type": "markdown",
      "source": [
        "We have successfully transformed the data in accordance with PCA"
      ],
      "metadata": {
        "id": "WRvxCcAdHJPb"
      }
    }
  ]
}