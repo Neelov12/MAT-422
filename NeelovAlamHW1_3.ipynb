{
  "nbformat": 4,
  "nbformat_minor": 0,
  "metadata": {
    "colab": {
      "provenance": [],
      "toc_visible": true,
      "authorship_tag": "ABX9TyP/gyAnN2qYUyU/RJ7uapR0",
      "include_colab_link": true
    },
    "kernelspec": {
      "name": "python3",
      "display_name": "Python 3"
    },
    "language_info": {
      "name": "python"
    }
  },
  "cells": [
    {
      "cell_type": "markdown",
      "metadata": {
        "id": "view-in-github",
        "colab_type": "text"
      },
      "source": [
        "<a href=\"https://colab.research.google.com/github/Neelov12/MAT-422/blob/main/NeelovAlamHW1_3.ipynb\" target=\"_parent\"><img src=\"https://colab.research.google.com/assets/colab-badge.svg\" alt=\"Open In Colab\"/></a>"
      ]
    },
    {
      "cell_type": "markdown",
      "source": [
        "# 1.3 Linear Regression"
      ],
      "metadata": {
        "id": "jd6D0QdmVJkM"
      }
    },
    {
      "cell_type": "markdown",
      "source": [
        "# Contents:\n",
        "\n",
        "> 1.3.1: QR Decomposition\n",
        "\n",
        "> 1.3.2: Least Squares Problems\n"
      ],
      "metadata": {
        "id": "btmg13VXVQor"
      }
    },
    {
      "cell_type": "markdown",
      "source": [
        "# 1.3.1: QR Decomposition"
      ],
      "metadata": {
        "id": "R2sDHBPcVhAm"
      }
    },
    {
      "cell_type": "markdown",
      "source": [
        "In this section, I will demonstrate the use of QR Decomposition by solving the following problem:\n",
        "\n",
        "> Find Q and R for the QR Factorization of A\n",
        "\n",
        "![Screenshot 2023-09-05 at 2.59.39 PM.png](data:image/png;base64,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)\n",
        "  "
      ],
      "metadata": {
        "id": "vxO-eT3v5Bc8"
      }
    },
    {
      "cell_type": "code",
      "source": [
        "import math\n",
        "import numpy as np\n",
        "\n",
        "A = ([[1,2,3],\n",
        "     [-1,1,1],\n",
        "     [1,1,1],\n",
        "     [1,1,1]])"
      ],
      "metadata": {
        "id": "U3emK6n6mKB_"
      },
      "execution_count": 14,
      "outputs": []
    },
    {
      "cell_type": "markdown",
      "source": [
        "First, to find Q, we must find the orthognal basis of A. To do this, we will use the Gram-Schmidt process from section 1.2.3. Using it, we find that the orthogonal basis, X, is\n",
        "\n",
        "![Screenshot 2023-09-05 at 3.31.01 PM.png](data:image/png;base64,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)"
      ],
      "metadata": {
        "id": "P6kovi-bXLPT"
      }
    },
    {
      "cell_type": "markdown",
      "source": [
        "Next, we must find the orthonormal set to find Q. We do this by performing the following calculations:"
      ],
      "metadata": {
        "id": "pGcqD_DceXYA"
      }
    },
    {
      "cell_type": "code",
      "execution_count": 15,
      "metadata": {
        "colab": {
          "base_uri": "https://localhost:8080/"
        },
        "id": "zAC--I9WU67p",
        "outputId": "ef5fa74a-ad77-4549-dac4-95739a59a581"
      },
      "outputs": [
        {
          "output_type": "stream",
          "name": "stdout",
          "text": [
            "This is the matrix Q: \n",
            "\n",
            "[[ 0.5         0.57353933  0.64888568]\n",
            " [-0.5         0.80295507 -0.32444284]\n",
            " [ 0.5         0.11470787 -0.48666426]\n",
            " [ 0.5         0.11470787 -0.48666426]]\n"
          ]
        }
      ],
      "source": [
        "\n",
        "# Find the distance of each column vector\n",
        "\n",
        "dis_col_1 = math.sqrt(1*1 + (-1*-1) + 1*1 + 1*1)\n",
        "dis_col_2 = math.sqrt(5*5 + 7*7 + 1*1 + 1*1)\n",
        "dis_col_3 = math.sqrt(4*4 + (-2*-2) + (-3*-3) + (-3*-3))\n",
        "\n",
        "# Find orthonormal set\n",
        "\n",
        "matrixX_col1 = np.array([1, -1,1, 1])\n",
        "matrixX_col2 = np.array([5, 7, 1, 1])\n",
        "matrixX_col3 = np.array([4,-2,-3,-3])\n",
        "\n",
        "dis1 = lambda i: i / dis_col_1\n",
        "dis2 = lambda i: i / dis_col_2\n",
        "dis3 = lambda i: i / dis_col_3\n",
        "\n",
        "vectorized_dis1 = np.vectorize(dis1)\n",
        "vectorized_dis2 = np.vectorize(dis2)\n",
        "vectorized_dis3 = np.vectorize(dis3)\n",
        "\n",
        "matrixX_non_transposed = np.array([vectorized_dis1(matrixX_col1),\n",
        "                                   vectorized_dis2(matrixX_col2),\n",
        "                                   vectorized_dis3(matrixX_col3)])\n",
        "\n",
        "# Transpose it to turn row vectors into column vectors\n",
        "\n",
        "matrixX = matrixX_non_transposed.transpose()\n",
        "\n",
        "print(\"This is the matrix Q: \\n\")\n",
        "print(matrixX)"
      ]
    },
    {
      "cell_type": "markdown",
      "source": [
        "Next, let's find R\n",
        "> A = QR\n",
        "\n",
        "> Likewise, Q^t*A = R, where Q^t represents the transposition of Q"
      ],
      "metadata": {
        "id": "x2fLUTVClFvd"
      }
    },
    {
      "cell_type": "code",
      "source": [
        "# The variable matrixX_non_transposed is just matrixX transposed. But, let's tranpose matrixX anyway\n",
        "\n",
        "matrixX_transposed = matrixX.transpose()\n",
        "\n",
        "# Find Q^t*A\n",
        "\n",
        "R = np.matmul(matrixX_transposed, A)\n",
        "\n",
        "print(\"R = \\n\")\n",
        "print(R)"
      ],
      "metadata": {
        "colab": {
          "base_uri": "https://localhost:8080/"
        },
        "id": "78hy97CCltND",
        "outputId": "8ca22650-faf2-4b92-93b4-58ea7196ae04"
      },
      "execution_count": 17,
      "outputs": [
        {
          "output_type": "stream",
          "name": "stdout",
          "text": [
            "R = \n",
            "\n",
            "[[2.00000000e+00 1.50000000e+00 2.00000000e+00]\n",
            " [5.55111512e-17 2.17944947e+00 2.75298881e+00]\n",
            " [0.00000000e+00 0.00000000e+00 6.48885685e-01]]\n"
          ]
        }
      ]
    },
    {
      "cell_type": "markdown",
      "source": [
        "Using these equations, we have found R using QR decomposition"
      ],
      "metadata": {
        "id": "Zm97xQVGncL8"
      }
    },
    {
      "cell_type": "markdown",
      "source": [
        "# 1.3.2: Least Squares Problems"
      ],
      "metadata": {
        "id": "pvcIERGtoPgL"
      }
    },
    {
      "cell_type": "markdown",
      "source": [
        "In this section, I will:\n",
        "- Approximate a least squares solution to a system of equations, say, A𝐱 = 𝕓, that has no solution"
      ],
      "metadata": {
        "id": "4HJbpMVE3gcn"
      }
    },
    {
      "cell_type": "markdown",
      "source": [
        "Say,\n",
        "\n",
        "![Screenshot 2023-09-05 at 4.21.41 PM.png](data:image/png;base64,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)"
      ],
      "metadata": {
        "id": "Hkuy-7EQpLM6"
      }
    },
    {
      "cell_type": "markdown",
      "source": [
        "First, I will show that A𝐱 = 𝕓 has no solution"
      ],
      "metadata": {
        "id": "OUF84psRp21J"
      }
    },
    {
      "cell_type": "code",
      "source": [
        "import sympy as sy\n",
        "import numpy as np\n",
        "from sympy import Matrix\n",
        "\n",
        "Axb = sy.Matrix([[0,1,6],\n",
        "                [1,1,0],\n",
        "                [2,1,0]])\n",
        "\n",
        "Axb.rref()"
      ],
      "metadata": {
        "colab": {
          "base_uri": "https://localhost:8080/"
        },
        "id": "dmhqME6Ap2Jy",
        "outputId": "8d56ed00-63f8-4b0c-c64d-ea7c8003d78e"
      },
      "execution_count": 23,
      "outputs": [
        {
          "output_type": "execute_result",
          "data": {
            "text/plain": [
              "(Matrix([\n",
              " [1, 0, 0],\n",
              " [0, 1, 0],\n",
              " [0, 0, 1]]),\n",
              " (0, 1, 2))"
            ]
          },
          "metadata": {},
          "execution_count": 23
        }
      ]
    },
    {
      "cell_type": "markdown",
      "source": [
        "As you can see, there is no solution to this system"
      ],
      "metadata": {
        "id": "G1FIdPBNqsBH"
      }
    },
    {
      "cell_type": "markdown",
      "source": [
        "Next, we will take the least squares approximation by following the following formula:\n",
        "\n",
        "![Screenshot 2023-09-05 at 4.27.43 PM.png](data:image/png;base64,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)"
      ],
      "metadata": {
        "id": "j1XGICztq8Ij"
      }
    },
    {
      "cell_type": "code",
      "source": [
        "A = np.array([[0,1],\n",
        "              [1,1],\n",
        "              [2,1]])\n",
        "\n",
        "b = np.array([[6],\n",
        "              [0],\n",
        "              [0]])\n",
        "\n",
        "A_transposed = A.transpose()\n",
        "\n",
        "A_t_A = np.matmul(A_transposed, A)\n",
        "\n",
        "A_t_b = np.matmul(A_transposed, b)\n",
        "\n",
        "# Combine into one array\n",
        "\n",
        "eq = np.hstack((A_t_A, A_t_b))\n",
        "\n",
        "# Convert to matrix\n",
        "\n",
        "matrix_eq = Matrix(eq)\n",
        "\n",
        "# Find rref\n",
        "\n",
        "matrix_eq.rref()"
      ],
      "metadata": {
        "colab": {
          "base_uri": "https://localhost:8080/"
        },
        "id": "nrGF2rQGrQs5",
        "outputId": "ea316847-84ff-4c49-df4c-ae886f822698"
      },
      "execution_count": 25,
      "outputs": [
        {
          "output_type": "execute_result",
          "data": {
            "text/plain": [
              "(Matrix([\n",
              " [1, 0, -3],\n",
              " [0, 1,  5]]),\n",
              " (0, 1))"
            ]
          },
          "metadata": {},
          "execution_count": 25
        }
      ]
    },
    {
      "cell_type": "markdown",
      "source": [
        "As you can see, the least squares solution is x1 = -3, x2 = 5"
      ],
      "metadata": {
        "id": "g7GuVfDWtyVp"
      }
    }
  ]
}